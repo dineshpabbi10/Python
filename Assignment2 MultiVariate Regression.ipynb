{
 "cells": [
  {
   "cell_type": "code",
   "execution_count": 163,
   "metadata": {},
   "outputs": [],
   "source": [
    "import pandas as pd\n",
    "import matplotlib.pyplot as plt\n",
    "import numpy as np\n",
    "%matplotlib inline"
   ]
  },
  {
   "cell_type": "code",
   "execution_count": 162,
   "metadata": {},
   "outputs": [
    {
     "name": "stdout",
     "output_type": "stream",
     "text": [
      "<class 'pandas.core.frame.DataFrame'>\n",
      "Data of X\n",
      "[[ 0.29341624 -0.94559871 -0.42110515  0.40681602  0.52566183]\n",
      " [-0.83608408 -0.18922804 -0.77640262 -1.05383124  0.59799685]\n",
      " [ 0.23642511  0.13283602 -0.14772298  0.69985396 -0.18736416]\n",
      " [ 0.17531181  0.14319424 -0.58111096 -0.12210693 -1.29216807]\n",
      " [-1.69301097  0.54271187 -2.79872942 -0.68672304  1.24407683]] <class 'numpy.ndarray'>\n",
      "Data of Y\n",
      "[-82.15466656 -48.89796018  77.2703707   -2.98858081 -37.59672212] <class 'numpy.ndarray'>\n",
      "shape of x:\n",
      "(1600, 5)\n",
      "Shape of y:\n",
      "(1600,)\n"
     ]
    }
   ],
   "source": [
    "trainData = pd.read_csv(\"G:\\Coding Blocks\\Documents\\Train.csv\")\n",
    "trainData.head(n=5)\n",
    "testData = pd.read_csv(\"G:\\Coding Blocks\\Documents\\Test.csv\")\n",
    "test = testData.values\n",
    "data = trainData.values\n",
    "x = data[:,:5]  #Training Data\n",
    "y = data[:,5]   #Training Data Output\n",
    "xt = test[:,:5] #Test Data\n",
    "yt = test[:,5]  #Test Data Output\n",
    "print(type(trainData))\n",
    "print(\"Data of X\")\n",
    "print(x[:5,],type(x))\n",
    "print(\"Data of Y\")\n",
    "print(y[:5],type(y))\n",
    "print(\"shape of x:\")\n",
    "print(x.shape)\n",
    "print(\"Shape of y:\")\n",
    "print(y.shape)"
   ]
  },
  {
   "cell_type": "markdown",
   "metadata": {},
   "source": [
    "# Answer1 = Number of Features = 5"
   ]
  },
  {
   "cell_type": "code",
   "execution_count": 164,
   "metadata": {},
   "outputs": [
    {
     "name": "stdout",
     "output_type": "stream",
     "text": [
      "5\n",
      "[-0.83608408 -0.18922804 -0.77640262 -1.05383124  0.59799685]\n"
     ]
    }
   ],
   "source": [
    "temp1 = x[1,]\n",
    "print(temp1.shape[0])\n",
    "print(temp1)"
   ]
  },
  {
   "cell_type": "markdown",
   "metadata": {},
   "source": [
    "# Implementation of Batch_Gradient linear Regression"
   ]
  },
  {
   "cell_type": "code",
   "execution_count": 189,
   "metadata": {},
   "outputs": [
    {
     "data": {
      "image/png": "[encoded data removed]",
      "text/plain": [
       "<Figure size 432x288 with 1 Axes>"
      ]
     },
     "metadata": {},
     "output_type": "display_data"
    }
   ],
   "source": [
    "def hypothesis(x,theta):\n",
    "    h = theta[0]\n",
    "    for i in range(x.shape[0]):\n",
    "        h += theta[i+1]*x[i]\n",
    "    return h\n",
    "\n",
    "# Testing hypothesis Function\n",
    "# x1 = np.array([[1,2,1],[4,5,6],[0,0,0],[1,1,1]])\n",
    "# y1 = np.array([1,2,3,4])\n",
    "# theta = np.array([2,1,3,5])\n",
    "# print(hypothesis(x1,theta))\n",
    "    \n",
    "def error(x,y,theta):\n",
    "    e = 0\n",
    "    for i in range(x.shape[0]):\n",
    "        h = hypothesis(x[i,],theta)\n",
    "        e += (h - y[i])**2\n",
    "    return e/2\n",
    "\n",
    "# Testing for error function\n",
    "# print(error(x1,y1,theta))\n",
    "\n",
    "def descent(x,y,theta,batch_size = 5):\n",
    "    m = y.shape[0]\n",
    "    indices = np.arange(m)\n",
    "    np.random.shuffle(indices)\n",
    "    indices = indices[:batch_size]\n",
    "    grad = np.zeros((theta.shape[0],))\n",
    "    for i in indices:\n",
    "        h = hypothesis(x[i,],theta)\n",
    "        grad[0] += y[i] - h\n",
    "        for j in range(1,grad.shape[0]):\n",
    "            grad[j] = (y[i] - h)*x[i,j-1]\n",
    "    return grad\n",
    "        \n",
    "def gradient_descent(x,y,learning_rate = 0.01):\n",
    "    m =  x.shape[1] + 1\n",
    "    theta = np.zeros((m,))\n",
    "    e = error(x,y,theta)\n",
    "    de =e\n",
    "    error_list = [e]\n",
    "    itr = 0\n",
    "    while(itr <= 2000):\n",
    "        grad = descent(x,y,theta)\n",
    "        theta = theta + learning_rate*grad\n",
    "        ne = error(x,y,theta)\n",
    "        error_list.append(ne)\n",
    "        de = ne  - e\n",
    "        e = ne\n",
    "        itr += 1\n",
    "    \n",
    "    return error_list,theta\n",
    "\n",
    "e,theta = gradient_descent(x,y)\n",
    "plt.plot(e)\n",
    "plt.show()\n",
    "\n",
    "# working of   \n",
    "# g =  descent(x1,y1,theta)\n",
    "# print(g,type(g))\n",
    "            "
   ]
  },
  {
   "cell_type": "markdown",
   "metadata": {},
   "source": [
    "## Answer 2"
   ]
  },
  {
   "cell_type": "code",
   "execution_count": 199,
   "metadata": {},
   "outputs": [
    {
     "name": "stdout",
     "output_type": "stream",
     "text": [
      "Value of coefficients are:\n",
      "[ 2.46928808 30.25523107 93.2259267   8.5811449  42.24356992  1.57582054]\n",
      "Value of intercept is:\n",
      "2.4692880813071048\n",
      "Hypothesisc 'rounded off coef' is :\n",
      "2.0*x0 30.0*x1 93.0*x2 9.0*x3 42.0*x4 2.0*x5 \n"
     ]
    }
   ],
   "source": [
    "print(\"Value of coefficients are:\")\n",
    "print(theta)\n",
    "print(\"Value of intercept is:\")\n",
    "print(theta[0])\n",
    "print(\"Hypothesisc 'rounded off coef' is :\")\n",
    "temp = \"\"\n",
    "for i in range(theta.shape[0]):\n",
    "    temp += str(round(theta[i]))+\"*x\"+str(i)+\" \"\n",
    "print(temp)"
   ]
  },
  {
   "cell_type": "markdown",
   "metadata": {},
   "source": [
    "# Implementation of Coefficient of Determination"
   ]
  },
  {
   "cell_type": "code",
   "execution_count": 200,
   "metadata": {},
   "outputs": [
    {
     "name": "stdout",
     "output_type": "stream",
     "text": [
      "343938.5694063715\n",
      "Score of test data\n",
      "0.96763809096307\n",
      "Score of training data\n",
      "0.9649214912721003\n"
     ]
    }
   ],
   "source": [
    "print(e[-1])\n",
    "def test(x,y,theta):\n",
    "    avg = y.mean()\n",
    "    m = y.shape[0]\n",
    "    r = 0.0\n",
    "    x1 = 0.0\n",
    "    x2 = 0.0\n",
    "    for i in range(y.shape[0]):\n",
    "        temp1 = y[i] - hypothesis(x[i,],theta)\n",
    "        x1 += temp1**2\n",
    "        temp2 = y[i] - avg\n",
    "        x2 += temp2**2\n",
    "    r = x1/x2\n",
    "    r = 1 - r\n",
    "    return r\n",
    "print(\"Score of test data\")\n",
    "print(test(xt,yt,theta))\n",
    "print(\"Score of training data\")\n",
    "print(test(x,y,theta))\n"
   ]
  },
  {
   "cell_type": "markdown",
   "metadata": {},
   "source": [
    "# Answer 3 : test data has scored slightly better  in the test"
   ]
  },
  {
   "cell_type": "code",
   "execution_count": 188,
   "metadata": {},
   "outputs": [
    {
     "name": "stdout",
     "output_type": "stream",
     "text": [
      "[ 0.23642511  0.13283602 -0.14772298  0.69985396 -0.18736416] 77.27037069642637\n",
      "[ 0.23642511  0.13283602 -0.14772298  0.69985396 -0.18736416] 47.364891289332995\n"
     ]
    }
   ],
   "source": [
    "print(x[2,],y[2])\n",
    "print(x[2,],hypothesis(x[2,],theta))"
   ]
  }
 ],
 "metadata": {
  "kernelspec": {
   "display_name": "Python 3",
   "language": "python",
   "name": "python3"
  },
  "language_info": {
   "codemirror_mode": {
    "name": "ipython",
    "version": 3
   },
   "file_extension": ".py",
   "mimetype": "text/x-python",
   "name": "python",
   "nbconvert_exporter": "python",
   "pygments_lexer": "ipython3",
   "version": "3.6.5"
  }
 },
 "nbformat": 4,
 "nbformat_minor": 2
}
