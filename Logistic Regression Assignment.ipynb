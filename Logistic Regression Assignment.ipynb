{
 "cells": [
  {
   "cell_type": "code",
   "execution_count": 1,
   "metadata": {},
   "outputs": [],
   "source": [
    "import matplotlib.pyplot as plt\n",
    "import numpy as np\n",
    "import pandas as pd"
   ]
  },
  {
   "cell_type": "code",
   "execution_count": 146,
   "metadata": {},
   "outputs": [
    {
     "name": "stdout",
     "output_type": "stream",
     "text": [
      "(99, 2) <class 'pandas.core.frame.DataFrame'>\n",
      "(99, 1)\n",
      "\n",
      "(99, 2) <class 'numpy.ndarray'>\n",
      "(99, 1) <class 'numpy.ndarray'>\n"
     ]
    }
   ],
   "source": [
    "X = pd.read_csv(\"G:\\Coding Blocks\\Documents\\logisticX.csv\")\n",
    "Y = pd.read_csv(\"G:\\Coding Blocks\\Documents\\logisticY.csv\")\n",
    "x = X.values\n",
    "y = Y.values\n",
    "print(X.shape,type(X))\n",
    "print(Y.shape)\n",
    "print()\n",
    "print(x.shape,type(x))\n",
    "print(y.shape,type(y))"
   ]
  },
  {
   "cell_type": "code",
   "execution_count": 147,
   "metadata": {},
   "outputs": [],
   "source": [
    "plt.style.use(\"seaborn\")"
   ]
  },
  {
   "cell_type": "code",
   "execution_count": 148,
   "metadata": {},
   "outputs": [
    {
     "data": {
      "image/png": "[encoded data removed]",
      "text/plain": [
       "<Figure size 576x396 with 1 Axes>"
      ]
     },
     "metadata": {},
     "output_type": "display_data"
    }
   ],
   "source": [
    "y = y.reshape((99))\n",
    "for i in range(y.shape[0]):\n",
    "    if y[i]==0:\n",
    "        plt.scatter(x[i,0],x[i,1],c='y')\n",
    "    else:\n",
    "        plt.scatter(x[i,0],x[i,1],c='r',marker='^')\n",
    "plt.show()"
   ]
  },
  {
   "cell_type": "markdown",
   "metadata": {},
   "source": [
    "# Implementation of Logistic Regression Algorithm"
   ]
  },
  {
   "cell_type": "code",
   "execution_count": 149,
   "metadata": {},
   "outputs": [],
   "source": [
    "def hypothesis(x,theta,bias):\n",
    "    result = bias + np.dot(x,theta)\n",
    "    return sigmoid(result)\n",
    "\n",
    "def sigmoid(a):\n",
    "    return 1.0/(1.0 + np.exp(-1.0*a))   # Use floats for accurate results\n",
    "\n",
    "def error(x,theta,y,bias):\n",
    "    it = x.shape[0]\n",
    "    e = 0.0\n",
    "    for i in range(it):\n",
    "        h = hypothesis(x[i],theta,bias)\n",
    "        e += y[i]*np.log2(h) + (1-y[i])*np.log2(1-h)\n",
    "    return -e/it\n",
    "\n",
    "def grad(x,y,theta,bias,batch_size = 1):\n",
    "    it = x.shape[0]\n",
    "    indices = np.arange(it)\n",
    "    np.random.shuffle(indices)\n",
    "    indices = indices[:batch_size]\n",
    "    g =  np.zeros(theta.shape)\n",
    "    g_b = 0.0\n",
    "    for i in indices:\n",
    "        h = hypothesis(x[i],theta,bias)\n",
    "        g += (y[i] - h)*x[i]\n",
    "        g_b += (y[i] - h)\n",
    "    g /= it\n",
    "    g_b /= it\n",
    "    return (g,g_b)\n",
    "\n",
    "def grad_des(x,y,theta,bias,learning_rate = 0.1):\n",
    "    e =  error(x,theta,y,bias)\n",
    "    g,g_b = grad(x,y,theta,bias)\n",
    "    theta = theta + learning_rate*g\n",
    "    bias = bias + learning_rate*g_b\n",
    "    return theta,bias,e\n",
    "\n",
    "def predict(x,theta,bias):\n",
    "    \n",
    "    confidence = hypothesis(x,theta,bias)\n",
    "    if confidence<0.5:\n",
    "        return 0\n",
    "    else:\n",
    "        return 1\n",
    "    \n",
    "\n",
    "    \n",
    "\n",
    "\n",
    "        \n",
    "\n",
    "\n",
    "# RANDOM TESTING AND STUFF NOT TO BE GIVEN ATTENTION BY READER OF CODE:\n",
    "            # s = np.array([1,2])\n",
    "            # d = np.array([[1,1],[2,3],[4,3],[5,5]])\n",
    "            # print(np.sum(s*d[1]))"
   ]
  },
  {
   "cell_type": "code",
   "execution_count": 150,
   "metadata": {},
   "outputs": [],
   "source": [
    "loss = []\n",
    "theta = np.random.random((x.shape[1],))\n",
    "bias = np.random.random()"
   ]
  },
  {
   "cell_type": "code",
   "execution_count": 151,
   "metadata": {},
   "outputs": [],
   "source": [
    "for i in range(1500):\n",
    "    t,b,l = grad_des(x,y,theta,bias)\n",
    "    theta = t\n",
    "    bias = b\n",
    "    loss.append(l)\n",
    "    "
   ]
  },
  {
   "cell_type": "code",
   "execution_count": 152,
   "metadata": {},
   "outputs": [
    {
     "data": {
      "text/plain": [
       "[<matplotlib.lines.Line2D at 0x28e4ac81c18>]"
      ]
     },
     "execution_count": 152,
     "metadata": {},
     "output_type": "execute_result"
    },
    {
     "data": {
      "image/png": "[encoded data removed]",
      "text/plain": [
       "<Figure size 576x396 with 1 Axes>"
      ]
     },
     "metadata": {},
     "output_type": "display_data"
    }
   ],
   "source": [
    "plt.plot(loss)\n",
    "# print(loss)"
   ]
  },
  {
   "cell_type": "markdown",
   "metadata": {},
   "source": [
    "# Accuracy  Function\n",
    "- we compare results of predict function and y_test"
   ]
  },
  {
   "cell_type": "code",
   "execution_count": 153,
   "metadata": {},
   "outputs": [],
   "source": [
    "def accuracy(x_test,y_test,theta,bias):\n",
    "    y_p = []\n",
    "    it = y_test.shape[0]\n",
    "    for i in range(it):\n",
    "        p = predict(x_test[i],theta,bias)\n",
    "        y_p.append(p)\n",
    "    y_p = np.array(y_p)\n",
    "    temp = y_p==y_test\n",
    "    temp = float(temp.sum())\n",
    "    temp = temp/it\n",
    "    return temp\n"
   ]
  },
  {
   "cell_type": "code",
   "execution_count": 154,
   "metadata": {},
   "outputs": [
    {
     "name": "stdout",
     "output_type": "stream",
     "text": [
      "0.9090909090909091\n"
     ]
    }
   ],
   "source": [
    "# p = np.array([1,0,1,1])\n",
    "# z = np.array([1,1,1,1])\n",
    "# print((p==z).sum())\n",
    "ac = accuracy(x,y,theta,bias)\n",
    "print(ac)"
   ]
  },
  {
   "cell_type": "code",
   "execution_count": 165,
   "metadata": {},
   "outputs": [
    {
     "data": {
      "text/plain": [
       "[<matplotlib.lines.Line2D at 0x28e4c7feb70>]"
      ]
     },
     "execution_count": 165,
     "metadata": {},
     "output_type": "execute_result"
    },
    {
     "data": {
      "image/png": "[encoded data removed]",
      "text/plain": [
       "<Figure size 576x396 with 1 Axes>"
      ]
     },
     "metadata": {},
     "output_type": "display_data"
    }
   ],
   "source": [
    "for i in range(y.shape[0]):\n",
    "    if y[i]==0:\n",
    "        plt.scatter(x[i,0],x[i,1],c='y')\n",
    "    else:\n",
    "        plt.scatter(x[i,0],x[i,1],c='r',marker='^')\n",
    "        \n",
    "x1 = np.linspace(1,9,10)\n",
    "y1 = -(theta[0]*x1 + b)/theta[1]\n",
    "plt.plot(x1,y1,color ='g')"
   ]
  },
  {
   "cell_type": "code",
   "execution_count": null,
   "metadata": {},
   "outputs": [],
   "source": []
  }
 ],
 "metadata": {
  "kernelspec": {
   "display_name": "Python 3",
   "language": "python",
   "name": "python3"
  },
  "language_info": {
   "codemirror_mode": {
    "name": "ipython",
    "version": 3
   },
   "file_extension": ".py",
   "mimetype": "text/x-python",
   "name": "python",
   "nbconvert_exporter": "python",
   "pygments_lexer": "ipython3",
   "version": "3.6.5"
  }
 },
 "nbformat": 4,
 "nbformat_minor": 2
}
