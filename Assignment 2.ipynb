{
 "cells": [
  {
   "cell_type": "code",
   "execution_count": 37,
   "metadata": {},
   "outputs": [],
   "source": [
    "import numpy as np\n",
    "import matplotlib.pyplot as pp\n",
    "import pandas as pa"
   ]
  },
  {
   "cell_type": "markdown",
   "metadata": {},
   "source": [
    "# importing Data - Step 1"
   ]
  },
  {
   "cell_type": "code",
   "execution_count": 45,
   "metadata": {},
   "outputs": [
    {
     "name": "stdout",
     "output_type": "stream",
     "text": [
      "<class 'numpy.ndarray'> (1600, 5)\n",
      "<class 'numpy.ndarray'>\n",
      "(1600, 5) <class 'numpy.ndarray'>\n"
     ]
    }
   ],
   "source": [
    "trainData = pa.read_csv(\"G:\\Coding Blocks\\Documents\\Train.csv\")\n",
    "testData = pa.read_csv(\"G:\\Coding Blocks\\Documents\\Test.csv\")\n",
    "# print(trainData.head(5))\n",
    "x1 = trainData.values\n",
    "x1 = x1[:,:5]\n",
    "print(type(x1),x1.shape)\n",
    "y1 = trainData.target\n",
    "y1 = list(y1)\n",
    "y1 = np.array(y1)\n",
    "print(type(y1))\n",
    "print(x1.shape,type(x1))\n",
    "# x2 = testData.values\n",
    "# y2 = testData.target\n",
    "# print(y2.shape,type(y2))"
   ]
  },
  {
   "cell_type": "markdown",
   "metadata": {},
   "source": [
    "# Question 1 : number of features = 5"
   ]
  },
  {
   "cell_type": "code",
   "execution_count": 58,
   "metadata": {},
   "outputs": [
    {
     "data": {
      "image/png": "[encoded data removed]",
      "text/plain": [
       "<Figure size 432x288 with 1 Axes>"
      ]
     },
     "metadata": {},
     "output_type": "display_data"
    },
    {
     "name": "stdout",
     "output_type": "stream",
     "text": [
      "[-0.07625475  9.83603486 29.81683446  1.16133    18.09214768 -1.75272389]\n"
     ]
    }
   ],
   "source": [
    "def hypothesis(x,theta):\n",
    "    result = 0\n",
    "    result += theta[0]*1 #for multivariate reg we have to use this\n",
    "    for i in range(0,len(x)):\n",
    "        result += (theta[i+1])*(x[i])\n",
    "    return result\n",
    "    \n",
    "# theta = [1,2,5,3,4]\n",
    "# print(hypothesis(1,theta))\n",
    "        \n",
    "def error(x,y,theta):\n",
    "    l = x.shape[0]\n",
    "    total_e = 0\n",
    "    for i in range(l):\n",
    "        h = hypothesis(x[i],theta)\n",
    "        e = (y[i] - h)**2\n",
    "        total_e += e\n",
    "    return total_e\n",
    "\n",
    "def gradient(x,y,theta):\n",
    "    m = x.shape[0]\n",
    "    grad =  np.zeros((len(theta),))\n",
    "    for i in range(m):\n",
    "        grad[0] += (hypothesis(1,theta) -y[i])\n",
    "        for j in range(1,len(theta)):\n",
    "            grad[i] += (hypothesis(x[i],theta) - y[i])*x[i]\n",
    "    return grad\n",
    "\n",
    "def batch_gradient(x,y,theta,batch_size = 1):\n",
    "    m = y.shape[0]\n",
    "    grad =  np.zeros((len(theta),))\n",
    "    indices = np.arange(m)\n",
    "    np.random.shuffle(indices) ## VERY IMPORTANT IT MAKES CHANGES TO INDICES ITSELF INSTEAD OF RETURNING NEW INDICES\n",
    "    indices = indices[:batch_size]\n",
    "    for i in indices:\n",
    "        grad[0] += (hypothesis(x[i,],theta) -y[i])\n",
    "        for j in range(0,len(theta)-1):\n",
    "            grad[j+1] += (y[i] -hypothesis(x[i,],theta))*x[i,j]\n",
    "    return grad\n",
    "\n",
    "def grad_descent(x,y,learning_rate = 0.001):\n",
    "    m = x.shape[1]\n",
    "    m+=1\n",
    "    theta = np.zeros((m,))\n",
    "    e = error(x,y,theta)\n",
    "    de = e\n",
    "    err_list = [e]\n",
    "    itr = 1\n",
    "    while (itr<=400):\n",
    "        grad = batch_gradient(x,y,theta)\n",
    "        theta = theta + learning_rate*grad\n",
    "        ne = error(x,y,theta)\n",
    "        err_list.append(ne)\n",
    "        de = ne - e\n",
    "        e = ne\n",
    "        itr+=1\n",
    "    return theta,err_list\n",
    "\n",
    "theta,e = grad_descent(x1,y1)\n",
    "pp.plot(e)\n",
    "pp.show()\n",
    "print(theta)\n",
    "        \n",
    "    "
   ]
  }
 ],
 "metadata": {
  "kernelspec": {
   "display_name": "Python 3",
   "language": "python",
   "name": "python3"
  },
  "language_info": {
   "codemirror_mode": {
    "name": "ipython",
    "version": 3
   },
   "file_extension": ".py",
   "mimetype": "text/x-python",
   "name": "python",
   "nbconvert_exporter": "python",
   "pygments_lexer": "ipython3",
   "version": "3.6.5"
  }
 },
 "nbformat": 4,
 "nbformat_minor": 2
}
